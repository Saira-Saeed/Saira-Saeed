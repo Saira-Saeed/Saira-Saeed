{
 "cells": [
  {
   "cell_type": "markdown",
   "id": "def6f030",
   "metadata": {},
   "source": [
    "# Question # 1"
   ]
  },
  {
   "cell_type": "code",
   "execution_count": 7,
   "id": "e8c6cbf5",
   "metadata": {},
   "outputs": [
    {
     "name": "stdout",
     "output_type": "stream",
     "text": [
      "Twinkle Twinkle little star\n",
      "         How I wonder What you are!\n",
      "                  Up above the World so high\n",
      "                  Like a diamond in the sky\n",
      "Twinkle Twinkle little star\n",
      "         How I wonder What you are!\n"
     ]
    }
   ],
   "source": [
    "a = \"Twinkle Twinkle little star\"\n",
    "b = \"How I wonder What you are!\"\n",
    "print(a)\n",
    "print((9 * \" \") + b)\n",
    "print((2 *9 * \" \") + \"Up above the World so high\")\n",
    "print((2 * 9 * \" \"+ \"Like a diamond in the sky\"))\n",
    "print(a)\n",
    "print((9 * \" \") + b)"
   ]
  },
  {
   "cell_type": "markdown",
   "id": "9348e00f",
   "metadata": {},
   "source": [
    "# Question # 2"
   ]
  },
  {
   "cell_type": "code",
   "execution_count": 9,
   "id": "7028ae38",
   "metadata": {},
   "outputs": [
    {
     "name": "stdout",
     "output_type": "stream",
     "text": [
      "Python Version 3.9.7 (default, Sep 16 2021, 16:59:28) [MSC v.1916 64 bit (AMD64)]\n"
     ]
    }
   ],
   "source": [
    "import sys\n",
    "print(\"Python Version \" + sys.version)"
   ]
  },
  {
   "cell_type": "markdown",
   "id": "250ead49",
   "metadata": {},
   "source": [
    "# Question # 3"
   ]
  },
  {
   "cell_type": "code",
   "execution_count": 11,
   "id": "1640d3a0",
   "metadata": {},
   "outputs": [
    {
     "name": "stdout",
     "output_type": "stream",
     "text": [
      "Date and Time = 2022-01-02 00:55:28.636201\n"
     ]
    }
   ],
   "source": [
    "from datetime import datetime\n",
    "now = datetime.now()\n",
    "print(\"Date and Time =\", now)\n"
   ]
  },
  {
   "cell_type": "markdown",
   "id": "c63e612a",
   "metadata": {},
   "source": [
    "# Question # 4 "
   ]
  },
  {
   "cell_type": "code",
   "execution_count": 16,
   "id": "47ae7fbf",
   "metadata": {},
   "outputs": [
    {
     "name": "stdout",
     "output_type": "stream",
     "text": [
      "Enter the Radius of circle: 2\n",
      "12.566370614359172\n"
     ]
    }
   ],
   "source": [
    "import math\n",
    "r = float(input(\"Enter the Radius of circle: \"))\n",
    "Area = math.pi * r * r\n",
    "print(Area)"
   ]
  },
  {
   "cell_type": "markdown",
   "id": "66f8f607",
   "metadata": {},
   "source": [
    "# Question # 5"
   ]
  },
  {
   "cell_type": "code",
   "execution_count": 18,
   "id": "60b9b65c",
   "metadata": {},
   "outputs": [
    {
     "name": "stdout",
     "output_type": "stream",
     "text": [
      "Enter your first name: Saira\n",
      "Enter your last name: Saeed\n",
      "Your name is: Saeed Saira\n"
     ]
    }
   ],
   "source": [
    "fname = str(input(\"Enter your first name: \"))\n",
    "lname = str(input(\"Enter your last name: \"))\n",
    "print(\"Your name is: \" + lname + \" \" + fname)\n"
   ]
  },
  {
   "cell_type": "markdown",
   "id": "fc8748c6",
   "metadata": {},
   "source": [
    "# Question # 6"
   ]
  },
  {
   "cell_type": "code",
   "execution_count": 20,
   "id": "d994f154",
   "metadata": {},
   "outputs": [
    {
     "name": "stdout",
     "output_type": "stream",
     "text": [
      "First No. 3\n",
      "Secind No. 4\n",
      "Addition is  7\n"
     ]
    }
   ],
   "source": [
    "a = int(input(\"First No. \"))\n",
    "b = int(input(\"Secind No. \"))\n",
    "c = a + b\n",
    "print(\"Addition is \", c)"
   ]
  },
  {
   "cell_type": "code",
   "execution_count": null,
   "id": "f790be96",
   "metadata": {},
   "outputs": [],
   "source": []
  }
 ],
 "metadata": {
  "kernelspec": {
   "display_name": "Python 3 (ipykernel)",
   "language": "python",
   "name": "python3"
  },
  "language_info": {
   "codemirror_mode": {
    "name": "ipython",
    "version": 3
   },
   "file_extension": ".py",
   "mimetype": "text/x-python",
   "name": "python",
   "nbconvert_exporter": "python",
   "pygments_lexer": "ipython3",
   "version": "3.9.7"
  }
 },
 "nbformat": 4,
 "nbformat_minor": 5
}
